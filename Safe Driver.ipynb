{
 "cells": [
  {
   "cell_type": "code",
   "execution_count": 18,
   "metadata": {},
   "outputs": [],
   "source": [
    "import pandas as pd\n",
    "import numpy as np"
   ]
  },
  {
   "cell_type": "code",
   "execution_count": 19,
   "metadata": {
    "collapsed": true
   },
   "outputs": [],
   "source": [
    "train = pd.read_csv('data/train.csv')\n",
    "test = pd.read_csv('data/test.csv')"
   ]
  },
  {
   "cell_type": "code",
   "execution_count": 96,
   "metadata": {},
   "outputs": [],
   "source": [
    "train[train == -1] = np.nan"
   ]
  },
  {
   "cell_type": "code",
   "execution_count": 97,
   "metadata": {},
   "outputs": [],
   "source": [
    "### just drop nas\n",
    "train_no_nans = train.dropna()"
   ]
  },
  {
   "cell_type": "code",
   "execution_count": 100,
   "metadata": {
    "scrolled": false
   },
   "outputs": [
    {
     "name": "stderr",
     "output_type": "stream",
     "text": [
      "/home/paulius/anaconda3/lib/python3.6/site-packages/ipykernel_launcher.py:5: SettingWithCopyWarning: \n",
      "A value is trying to be set on a copy of a slice from a DataFrame.\n",
      "Try using .loc[row_indexer,col_indexer] = value instead\n",
      "\n",
      "See the caveats in the documentation: http://pandas.pydata.org/pandas-docs/stable/indexing.html#indexing-view-versus-copy\n",
      "  \"\"\"\n"
     ]
    }
   ],
   "source": [
    "cat_cols = [col for col in train_no_nans.columns if col.endswith('cat')]\n",
    "cat_cols_maxs = train_no_nans[cat_cols].max(axis=0)\n",
    "truly_cat_cols = cat_cols_maxs[cat_cols_maxs > 1].index.tolist()\n",
    "for col in truly_cat_cols:\n",
    "    train_no_nans[col] = train_no_nans[col].astype(str)\n",
    "ohe_train_no_nans = pd.get_dummies(train_no_nans)"
   ]
  },
  {
   "cell_type": "code",
   "execution_count": 104,
   "metadata": {},
   "outputs": [],
   "source": [
    "from sklearn.model_selection import train_test_split\n",
    "X, y = ohe_train_no_nans.iloc[:, 2:].values, ohe_train_no_nans.iloc[:, 1].values\n",
    "X_train, X_test, y_train, y_test = train_test_split(X, y, test_size=0.3, random_state=0)"
   ]
  },
  {
   "cell_type": "code",
   "execution_count": 105,
   "metadata": {
    "collapsed": true
   },
   "outputs": [],
   "source": [
    "from sklearn.preprocessing import StandardScaler\n",
    "stdsc = StandardScaler()\n",
    "X_train_std = stdsc.fit_transform(X_train)\n",
    "X_test_std = stdsc.transform(X_test)"
   ]
  },
  {
   "cell_type": "code",
   "execution_count": 108,
   "metadata": {},
   "outputs": [
    {
     "name": "stdout",
     "output_type": "stream",
     "text": [
      "regularization C is -4.0\n",
      "Training accuracy: 0.954557409292\n",
      "Test accuracy: 0.954749199573\n",
      "regularization C is -3.0\n",
      "Training accuracy: 0.954557409292\n",
      "Test accuracy: 0.954749199573\n",
      "regularization C is -2.0\n",
      "Training accuracy: 0.954557409292\n",
      "Test accuracy: 0.954749199573\n",
      "regularization C is -1.0\n",
      "Training accuracy: 0.954557409292\n",
      "Test accuracy: 0.954749199573\n",
      "regularization C is 0.0\n",
      "Training accuracy: 0.954557409292\n",
      "Test accuracy: 0.954749199573\n",
      "regularization C is 1.0\n",
      "Training accuracy: 0.954557409292\n",
      "Test accuracy: 0.954749199573\n",
      "regularization C is 2.0\n",
      "Training accuracy: 0.954557409292\n",
      "Test accuracy: 0.954749199573\n",
      "regularization C is 3.0\n",
      "Training accuracy: 0.954557409292\n",
      "Test accuracy: 0.954749199573\n",
      "regularization C is 4.0\n",
      "Training accuracy: 0.954557409292\n",
      "Test accuracy: 0.954749199573\n",
      "regularization C is 5.0\n",
      "Training accuracy: 0.954557409292\n",
      "Test accuracy: 0.954749199573\n"
     ]
    }
   ],
   "source": [
    "from sklearn.linear_model import LogisticRegression\n",
    "for c in np.arange(-4, 6, dtype=float):\n",
    "    lr = LogisticRegression(penalty='l1', C=10**c, random_state=0)\n",
    "    lr.fit(X_train_std, y_train)\n",
    "    print('regularization C is ' + str(c))\n",
    "    print('Training accuracy:', lr.score(X_train_std, y_train))\n",
    "    print('Test accuracy:', lr.score(X_test_std, y_test))"
   ]
  }
 ],
 "metadata": {
  "kernelspec": {
   "display_name": "Python 3",
   "language": "python",
   "name": "python3"
  },
  "language_info": {
   "codemirror_mode": {
    "name": "ipython",
    "version": 3
   },
   "file_extension": ".py",
   "mimetype": "text/x-python",
   "name": "python",
   "nbconvert_exporter": "python",
   "pygments_lexer": "ipython3",
   "version": "3.6.1"
  }
 },
 "nbformat": 4,
 "nbformat_minor": 2
}
